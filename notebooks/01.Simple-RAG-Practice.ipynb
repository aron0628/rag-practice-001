{
 "cells": [
  {
   "cell_type": "markdown",
   "metadata": {},
   "source": [
    "# Simple RAG Practice - 리팩토링 버전\n",
    "모듈화된 rag_core를 사용하여 간소화된 노트북"
   ]
  },
  {
   "cell_type": "code",
   "metadata": {
    "ExecuteTime": {
     "end_time": "2025-09-22T08:04:34.847181Z",
     "start_time": "2025-09-22T08:04:33.595528Z"
    }
   },
   "source": [
    "# 시스템 경로 추가 (노트북에서 상위 디렉토리 모듈 import)\n",
    "import sys\n",
    "sys.path.append('../')\n",
    "\n",
    "# LangSmith 추적 설정\n",
    "from langchain_teddynote import logging\n",
    "\n",
    "# 프로젝트 이름을 입력합니다.\n",
    "logging.langsmith(\"=== 01.Simple-RAG-Practice ===\")"
   ],
   "outputs": [
    {
     "name": "stdout",
     "output_type": "stream",
     "text": [
      "LangSmith 추적을 시작합니다.\n",
      "[프로젝트명]\n",
      "=== 01.Simple-RAG-Practice ===\n"
     ]
    }
   ],
   "execution_count": 1
  },
  {
   "cell_type": "markdown",
   "metadata": {},
   "source": [
    "## 모듈 import\n",
    "이제 모든 설정과 클래스를 rag_core에서 가져옵니다."
   ]
  },
  {
   "cell_type": "code",
   "metadata": {
    "ExecuteTime": {
     "end_time": "2025-09-22T08:04:36.946393Z",
     "start_time": "2025-09-22T08:04:35.798913Z"
    }
   },
   "source": [
    "# rag_core 모듈에서 필요한 것들 import\n",
    "from rag_core import (\n",
    "    SessionLocal,\n",
    "    DenseRetriever,\n",
    "    embeddings,\n",
    "    Document,\n",
    "    File\n",
    ")\n",
    "\n",
    "print(\"✅ 모듈 import 완료\")"
   ],
   "outputs": [
    {
     "name": "stdout",
     "output_type": "stream",
     "text": [
      "\n",
      "검색 결과: 2개 문서\n",
      "====================================================================================================\n",
      "\n",
      "[1] 유사도: 0.5130\n",
      "파일: ../data/SPRI_AI_Brief_2023년12월호_F.pdf\n",
      "청크 인덱스: 50\n",
      "페이지: 12\n",
      "섹션: None\n",
      "내용: SPRi AI Brief | 2023-12월호 # 삼성전자, 자체 개발 생성 AI ‘삼성 가우스’ 공개 # KEY Contents n 삼성전자가 온디바이스에서 작동 가능하며 언어, 코드, 이미지의 3개 모델로 구성된 자체 개발 생성 AI 모델 ‘삼성 가우스’를 공개 n 삼성전자는 삼성 가우스를 다양한 제품에 단계적으로 탑재할 계획으로, 온디바이스 작동이 가...\n",
      "--------------------------------------------------------------------------------\n",
      "\n",
      "[2] 유사도: 0.5045\n",
      "파일: ../data/SPRI_AI_Brief_2023년12월호_F.pdf\n",
      "청크 인덱스: 52\n",
      "페이지: 12\n",
      "섹션: None\n",
      "내용: 사내 소프트웨어 개발에 최적화 ∙ 이미지 모델은 창의적인 이미지를 생성하고 기존 이미지를 원하는 대로 바꿀 수 있도록 지원하며 저해상도 이미지의 고해상도 전환도 지원 n IT 전문지 테크리퍼블릭(TechRepublic)은 온디바이스 AI가 주요 기술 트렌드로 부상했다며, 2024년부터 가우스를 탑재한 삼성 스마트폰이 메타의 라마(Llama)2를 탑재한 퀄컴...\n",
      "--------------------------------------------------------------------------------\n"
     ]
    }
   ],
   "execution_count": 2
  },
  {
   "cell_type": "markdown",
   "metadata": {},
   "source": [
    "## Dense Retriever 실행\n",
    "모듈화된 DenseRetriever 클래스를 사용하여 검색을 수행합니다."
   ]
  },
  {
   "cell_type": "code",
   "metadata": {
    "ExecuteTime": {
     "end_time": "2025-09-22T08:05:24.579445Z",
     "start_time": "2025-09-22T08:05:24.144131Z"
    }
   },
   "source": [
    "# 세션 생성 및 검색 수행\n",
    "with SessionLocal() as session:\n",
    "    # DenseRetriever 인스턴스 생성\n",
    "    retriever = DenseRetriever(session)\n",
    "    \n",
    "    # 검색 수행\n",
    "    question = \"주요 기술 행사일정에 대해 알려줘\"\n",
    "    results = retriever.search(\n",
    "        question=question,\n",
    "        top_k=20,\n",
    "        similarity_threshold=0.5,\n",
    "        min_results=5\n",
    "    )\n",
    "    \n",
    "    # 결과 출력\n",
    "    retriever.print_results(results, max_content_length=200)"
   ],
   "outputs": [
    {
     "name": "stdout",
     "output_type": "stream",
     "text": [
      "\n",
      "검색 결과: 5개 문서\n",
      "====================================================================================================\n",
      "\n",
      "[1] 유사도: 0.0479\n",
      "파일: ../data/SPRI_AI_Brief_2023년12월호_F.pdf\n",
      "청크 인덱스: 3\n",
      "페이지: 1\n",
      "섹션: None\n",
      "내용: ▹ 삼성전자, 자체 개발 생성 AI ‘삼성 가우스’ 공개 ··························································· 10 ▹ 구글, 앤스로픽에 20억 달러 투자로 생성 AI 협력 강화 ················································ 11 ▹ IDC, 2027년 AI 소프...\n",
      "--------------------------------------------------------------------------------\n",
      "\n",
      "[2] 유사도: 0.0460\n",
      "파일: ../data/SPRI_AI_Brief_2023년12월호_F.pdf\n",
      "청크 인덱스: 2\n",
      "페이지: 1\n",
      "섹션: None\n",
      "내용: ▹ EU AI 법 3자 협상, 기반모델 규제 관련 견해차로 난항 ··················································· 6 2. 기업/산업 ▹ 미국 프런티어 모델 포럼, 1,000만 달러 규모의 AI 안전 기금 조성 ································ 7 ▹ 코히어, 데이터 투명성 확보를 위한 데...\n",
      "--------------------------------------------------------------------------------\n",
      "\n",
      "[3] 유사도: 0.0374\n",
      "파일: ../data/SPRI_AI_Brief_2023년12월호_F.pdf\n",
      "청크 인덱스: 50\n",
      "페이지: 12\n",
      "섹션: None\n",
      "내용: SPRi AI Brief | 2023-12월호 # 삼성전자, 자체 개발 생성 AI ‘삼성 가우스’ 공개 # KEY Contents n 삼성전자가 온디바이스에서 작동 가능하며 언어, 코드, 이미지의 3개 모델로 구성된 자체 개발 생성 AI 모델 ‘삼성 가우스’를 공개 n 삼성전자는 삼성 가우스를 다양한 제품에 단계적으로 탑재할 계획으로, 온디바이스 작동이 가...\n",
      "--------------------------------------------------------------------------------\n",
      "\n",
      "[4] 유사도: 0.0325\n",
      "파일: ../data/SPRI_AI_Brief_2023년12월호_F.pdf\n",
      "청크 인덱스: 51\n",
      "페이지: 12\n",
      "섹션: None\n",
      "내용: 최적화된 크기의 모델 선택이 가능 ∙ 삼성 가우스는 라이선스나 개인정보를 침해하지 않는 안전한 데이터를 통해 학습되었으며, 온디바이스에서 작동하도록 설계되어 외부로 사용자의 정보가 유출되지 않는 장점을 보유 ∙ 삼성전자는 삼성 가우스를 활용한 온디바이스 AI 기술도 소개했으며, 생성 AI 모델을 다양한 제품에 단계적으로 탑재할 계획 n 삼성 가우스는 △텍스...\n",
      "--------------------------------------------------------------------------------\n",
      "\n",
      "[5] 유사도: 0.0316\n",
      "파일: ../data/SPRI_AI_Brief_2023년12월호_F.pdf\n",
      "청크 인덱스: 52\n",
      "페이지: 12\n",
      "섹션: None\n",
      "내용: 사내 소프트웨어 개발에 최적화 ∙ 이미지 모델은 창의적인 이미지를 생성하고 기존 이미지를 원하는 대로 바꿀 수 있도록 지원하며 저해상도 이미지의 고해상도 전환도 지원 n IT 전문지 테크리퍼블릭(TechRepublic)은 온디바이스 AI가 주요 기술 트렌드로 부상했다며, 2024년부터 가우스를 탑재한 삼성 스마트폰이 메타의 라마(Llama)2를 탑재한 퀄컴...\n",
      "--------------------------------------------------------------------------------\n"
     ]
    }
   ],
   "execution_count": 4
  },
  {
   "cell_type": "markdown",
   "metadata": {},
   "source": [
    "## 커스텀 검색 예제\n",
    "다른 질문으로 검색을 수행해봅니다."
   ]
  },
  {
   "cell_type": "code",
   "metadata": {},
   "source": [
    "# 다른 질문으로 검색\n",
    "questions = [\n",
    "    \"AI 관련 최신 동향은?\",\n",
    "    \"데이터베이스 성능 최적화 방법\",\n",
    "    \"파이썬 프로그래밍 팁\"\n",
    "]\n",
    "\n",
    "with SessionLocal() as session:\n",
    "    retriever = DenseRetriever(session)\n",
    "    \n",
    "    for question in questions:\n",
    "        print(f\"\\n{'='*100}\")\n",
    "        print(f\"질문: {question}\")\n",
    "        print(f\"{'='*100}\")\n",
    "        \n",
    "        results = retriever.search(\n",
    "            question=question,\n",
    "            top_k=5,  # 상위 5개만\n",
    "            similarity_threshold=0.5  # 더 엄격한 임계값\n",
    "        )\n",
    "        \n",
    "        if results:\n",
    "            retriever.print_results(results, max_content_length=150)\n",
    "        else:\n",
    "            print(\"관련 문서를 찾을 수 없습니다.\")"
   ],
   "outputs": [],
   "execution_count": null
  },
  {
   "cell_type": "markdown",
   "metadata": {},
   "source": [
    "## 모듈 정보 확인"
   ]
  },
  {
   "cell_type": "code",
   "metadata": {},
   "source": [
    "# rag_core 모듈 정보 확인\n",
    "import rag_core\n",
    "\n",
    "print(f\"RAG Core 버전: {rag_core.__version__}\")\n",
    "print(f\"\\n사용 가능한 컴포넌트:\")\n",
    "for item in rag_core.__all__:\n",
    "    if not item.startswith('_'):\n",
    "        print(f\"  - {item}\")"
   ],
   "outputs": [],
   "execution_count": null
  }
 ],
 "metadata": {
  "kernelspec": {
   "display_name": "Python 3",
   "language": "python",
   "name": "python3"
  },
  "language_info": {
   "codemirror_mode": {
    "name": "ipython",
    "version": 3
   },
   "file_extension": ".py",
   "mimetype": "text/x-python",
   "name": "python",
   "nbconvert_exporter": "python",
   "pygments_lexer": "ipython3",
   "version": "3.8.0"
  }
 },
 "nbformat": 4,
 "nbformat_minor": 4
}
