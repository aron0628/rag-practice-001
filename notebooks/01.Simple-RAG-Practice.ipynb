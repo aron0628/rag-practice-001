{
 "cells": [
  {
   "cell_type": "markdown",
   "metadata": {},
   "source": [
    "# Simple RAG Practice - 리팩토링 버전\n",
    "모듈화된 rag_core를 사용하여 간소화된 노트북"
   ]
  },
  {
   "cell_type": "code",
   "metadata": {},
   "source": [
    "# 시스템 경로 추가 (노트북에서 상위 디렉토리 모듈 import)\n",
    "import sys\n",
    "sys.path.append('../')\n",
    "\n",
    "# LangSmith 추적 설정\n",
    "from langchain_teddynote import logging\n",
    "\n",
    "# 프로젝트 이름을 입력합니다.\n",
    "logging.langsmith(\"=== 01.Simple-RAG-Practice ===\")"
   ],
   "outputs": [],
   "execution_count": null
  },
  {
   "cell_type": "markdown",
   "metadata": {},
   "source": [
    "## 모듈 import\n",
    "이제 모든 설정과 클래스를 rag_core에서 가져옵니다."
   ]
  },
  {
   "cell_type": "code",
   "metadata": {},
   "source": [
    "# rag_core 모듈에서 필요한 것들 import\n",
    "from rag_core import (\n",
    "    SessionLocal,\n",
    "    DenseRetriever,\n",
    "    embeddings,\n",
    "    Document,\n",
    "    File\n",
    ")\n",
    "\n",
    "print(\"✅ 모듈 import 완료\")"
   ],
   "outputs": [],
   "execution_count": null
  },
  {
   "cell_type": "markdown",
   "metadata": {},
   "source": [
    "## Dense Retriever 실행\n",
    "모듈화된 DenseRetriever 클래스를 사용하여 검색을 수행합니다."
   ]
  },
  {
   "cell_type": "code",
   "metadata": {
    "ExecuteTime": {
     "end_time": "2025-09-22T06:31:33.126808Z",
     "start_time": "2025-09-22T06:31:32.210450Z"
    }
   },
   "source": [
    "# 세션 생성 및 검색 수행\n",
    "with SessionLocal() as session:\n",
    "    # DenseRetriever 인스턴스 생성\n",
    "    retriever = DenseRetriever(session)\n",
    "    \n",
    "    # 검색 수행\n",
    "    question = \"주요 기술 행사일정에 대해 알려줘\"\n",
    "    results = retriever.search(\n",
    "        question=question,\n",
    "        top_k=20,\n",
    "        similarity_threshold=0.5,\n",
    "        min_results=5\n",
    "    )\n",
    "    \n",
    "    # 결과 출력\n",
    "    retriever.print_results(results, max_content_length=200)"
   ],
   "outputs": [
    {
     "name": "stdout",
     "output_type": "stream",
     "text": [
      "질문: 주요 기술 행사일정에 대해 알려줘\n",
      "임베딩 차원: 4000\n",
      "Document 테이블: documents_4000\n",
      "File 테이블: files_4000\n",
      "스키마: rag\n",
      "--------------------------------------------------------------------------------\n",
      "\n",
      "검색 결과: 5개 문서\n",
      "====================================================================================================\n",
      "\n",
      "[1] 유사도: 0.4452\n",
      "파일: ../data/SPRI_AI_Brief_2023년12월호_F.pdf\n",
      "청크 인덱스: 92\n",
      "페이지: 21\n",
      "섹션: None\n",
      "내용: | 행사명 | 행사 주요 개요 | 행사 주요 개요 | 행사 주요 개요 |\n",
      "| --- | --- | --- | --- |\n",
      "| CES 2024 | ![image](/image/placeholder)\n",
      " | - 미국 소비자기술 협회(CTA)가 주관하는 세계 최대 가전·IT·소 비재 전시회로 5G, AR&VR, 디지털헬스, 교통·모빌리티 등 주요 카테고리 중심으로 ...\n",
      "--------------------------------------------------------------------------------\n",
      "\n",
      "[2] 유사도: 0.4121\n",
      "파일: ../data/SPRI_AI_Brief_2023년12월호_F.pdf\n",
      "청크 인덱스: 99\n",
      "페이지: 21\n",
      "섹션: None\n",
      "내용: # Ⅱ. 주요 행사 일정...\n",
      "--------------------------------------------------------------------------------\n",
      "\n",
      "[3] 유사도: 0.4011\n",
      "파일: ../data/SPRI_AI_Brief_2023년12월호_F.pdf\n",
      "청크 인덱스: 94\n",
      "페이지: 21\n",
      "섹션: None\n",
      "내용: <table> <title> 2024년 AI 및 기술 컨퍼런스 일정 </title> <details> 이 표는 2024년에 열리는 주요 기술 및 AI 컨퍼런스에 대한 정보를 보여줍니다. 첫 번째 행사는 CES 2024로, 기간은 2024.1.9-12이며, 장소는 미국 라스베가스입니다. 설명으로는 컴퓨터 비전, AR/VR, 디지털 헬스 등 다양한 기술 분야를...\n",
      "--------------------------------------------------------------------------------\n",
      "\n",
      "[4] 유사도: 0.3996\n",
      "파일: ../data/SPRI_AI_Brief_2023년12월호_F.pdf\n",
      "청크 인덱스: 93\n",
      "페이지: 21\n",
      "섹션: None\n",
      "내용:  nce/ |\n",
      "\n",
      "\n",
      "\n",
      "<table>\n",
      "<title>\n",
      "2024년 AI 및 기술 컨퍼런스 일정\n",
      "</title>\n",
      "<details>\n",
      "이 표는 2024년에 열리는 주요 기술 및 AI 컨퍼런스에 대한 정보를 보여줍니다. 첫 번째 행사는 CES 2024로, 기간은 2024.1.9-12이며, 장소는 미국 라스베가스입니다. 설명으로는 컴퓨터 비전, AR/VR, 디지털 헬스 등...\n",
      "--------------------------------------------------------------------------------\n",
      "\n",
      "[5] 유사도: 0.3040\n",
      "파일: ../data/SPRI_AI_Brief_2023년12월호_F.pdf\n",
      "청크 인덱스: 4\n",
      "페이지: 1\n",
      "섹션: None\n",
      "내용: 3. 기술/연구 ▹ 영국 과학혁신기술부, AI 안전 연구소 설립 발표 ······························································ 15 ▹ 구글 딥마인드, 범용 AI 모델의 기능과 동작에 대한 분류 체계 발표 ······························ 16 ▹ 갈릴레오의 LLM 환각 지수 평가...\n",
      "--------------------------------------------------------------------------------\n"
     ]
    }
   ],
   "execution_count": 3
  },
  {
   "cell_type": "markdown",
   "metadata": {},
   "source": [
    "## 커스텀 검색 예제\n",
    "다른 질문으로 검색을 수행해봅니다."
   ]
  },
  {
   "cell_type": "code",
   "metadata": {},
   "source": [
    "# 다른 질문으로 검색\n",
    "questions = [\n",
    "    \"AI 관련 최신 동향은?\",\n",
    "    \"데이터베이스 성능 최적화 방법\",\n",
    "    \"파이썬 프로그래밍 팁\"\n",
    "]\n",
    "\n",
    "with SessionLocal() as session:\n",
    "    retriever = DenseRetriever(session)\n",
    "    \n",
    "    for question in questions:\n",
    "        print(f\"\\n{'='*100}\")\n",
    "        print(f\"질문: {question}\")\n",
    "        print(f\"{'='*100}\")\n",
    "        \n",
    "        results = retriever.search(\n",
    "            question=question,\n",
    "            top_k=5,  # 상위 5개만\n",
    "            similarity_threshold=0.5  # 더 엄격한 임계값\n",
    "        )\n",
    "        \n",
    "        if results:\n",
    "            retriever.print_results(results, max_content_length=150)\n",
    "        else:\n",
    "            print(\"관련 문서를 찾을 수 없습니다.\")"
   ],
   "outputs": [],
   "execution_count": null
  },
  {
   "cell_type": "markdown",
   "metadata": {},
   "source": [
    "## 모듈 정보 확인"
   ]
  },
  {
   "cell_type": "code",
   "metadata": {},
   "source": [
    "# rag_core 모듈 정보 확인\n",
    "import rag_core\n",
    "\n",
    "print(f\"RAG Core 버전: {rag_core.__version__}\")\n",
    "print(f\"\\n사용 가능한 컴포넌트:\")\n",
    "for item in rag_core.__all__:\n",
    "    if not item.startswith('_'):\n",
    "        print(f\"  - {item}\")"
   ],
   "outputs": [],
   "execution_count": null
  }
 ],
 "metadata": {
  "kernelspec": {
   "display_name": "Python 3",
   "language": "python",
   "name": "python3"
  },
  "language_info": {
   "codemirror_mode": {
    "name": "ipython",
    "version": 3
   },
   "file_extension": ".py",
   "mimetype": "text/x-python",
   "name": "python",
   "nbconvert_exporter": "python",
   "pygments_lexer": "ipython3",
   "version": "3.8.0"
  }
 },
 "nbformat": 4,
 "nbformat_minor": 4
}
